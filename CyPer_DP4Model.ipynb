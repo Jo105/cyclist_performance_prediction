{
 "cells": [
  {
   "cell_type": "markdown",
   "id": "4b0d2211",
   "metadata": {},
   "source": [
    "Data preparation for modeling"
   ]
  },
  {
   "cell_type": "markdown",
   "id": "1d279293",
   "metadata": {},
   "source": [
    "## Environment Set-Up\n",
    "\n",
    "### Load relevant Python Packages"
   ]
  },
  {
   "cell_type": "code",
   "execution_count": 1,
   "id": "70c4065b",
   "metadata": {},
   "outputs": [],
   "source": [
    "# Importing the most important modules\n",
    "import pandas as pd\n",
    "import numpy as np\n",
    "import matplotlib.pyplot as plt\n",
    "import seaborn as sns\n",
    "import warnings\n",
    "from matplotlib import pyplot\n",
    "\n",
    "# For data reading and data export\n",
    "import os, glob\n",
    "from pathlib import Path\n",
    "from pandas import read_csv\n",
    "\n",
    "# For data cleaning\n",
    "from datetime import datetime\n",
    "\n",
    "# For data exploration\n",
    "\n",
    "# For data visualisation - WordCloud\n",
    "from wordcloud import WordCloud"
   ]
  },
  {
   "cell_type": "markdown",
   "id": "048758b6",
   "metadata": {},
   "source": [
    "## Loading Datasets & Preparation for Modeling"
   ]
  },
  {
   "cell_type": "code",
   "execution_count": 2,
   "id": "b53dead6",
   "metadata": {},
   "outputs": [
    {
     "data": {
      "text/html": [
       "<div>\n",
       "<style scoped>\n",
       "    .dataframe tbody tr th:only-of-type {\n",
       "        vertical-align: middle;\n",
       "    }\n",
       "\n",
       "    .dataframe tbody tr th {\n",
       "        vertical-align: top;\n",
       "    }\n",
       "\n",
       "    .dataframe thead th {\n",
       "        text-align: right;\n",
       "    }\n",
       "</style>\n",
       "<table border=\"1\" class=\"dataframe\">\n",
       "  <thead>\n",
       "    <tr style=\"text-align: right;\">\n",
       "      <th></th>\n",
       "      <th>When</th>\n",
       "      <th>Type</th>\n",
       "      <th>Gear</th>\n",
       "      <th>Name</th>\n",
       "      <th>Dist km</th>\n",
       "      <th>Elv m</th>\n",
       "      <th>Elapsed Time</th>\n",
       "      <th>Moving Time</th>\n",
       "      <th>Start Time</th>\n",
       "      <th>Day of Week</th>\n",
       "      <th>...</th>\n",
       "      <th>Power 250-300W</th>\n",
       "      <th>Power 300-350W</th>\n",
       "      <th>Power 350-400W</th>\n",
       "      <th>Power 400-450W</th>\n",
       "      <th>Power 450W+</th>\n",
       "      <th>City</th>\n",
       "      <th>State</th>\n",
       "      <th>Device/App</th>\n",
       "      <th>Activity Id</th>\n",
       "      <th>filename</th>\n",
       "    </tr>\n",
       "  </thead>\n",
       "  <tbody>\n",
       "    <tr>\n",
       "      <th>0</th>\n",
       "      <td>2021-03-28 14:15:27</td>\n",
       "      <td>Ride</td>\n",
       "      <td>Canyon Ultimate CF SLX</td>\n",
       "      <td>Fahrt am Nachmittag</td>\n",
       "      <td>90796.6</td>\n",
       "      <td>797.0</td>\n",
       "      <td>12497</td>\n",
       "      <td>12014</td>\n",
       "      <td>51327</td>\n",
       "      <td>Sunday</td>\n",
       "      <td>...</td>\n",
       "      <td>1318</td>\n",
       "      <td>742</td>\n",
       "      <td>307</td>\n",
       "      <td>140</td>\n",
       "      <td>127.0</td>\n",
       "      <td>NaN</td>\n",
       "      <td>NaN</td>\n",
       "      <td>Garmin Edge 1030</td>\n",
       "      <td>5026851534</td>\n",
       "      <td>95</td>\n",
       "    </tr>\n",
       "    <tr>\n",
       "      <th>1</th>\n",
       "      <td>2021-03-27 12:32:34</td>\n",
       "      <td>Ride</td>\n",
       "      <td>Canyon Ultimate CF SLX</td>\n",
       "      <td>#Südflügel - #Lockdownduo - Samstagscross</td>\n",
       "      <td>95537.9</td>\n",
       "      <td>769.0</td>\n",
       "      <td>18614</td>\n",
       "      <td>16282</td>\n",
       "      <td>45154</td>\n",
       "      <td>Saturday</td>\n",
       "      <td>...</td>\n",
       "      <td>424</td>\n",
       "      <td>249</td>\n",
       "      <td>150</td>\n",
       "      <td>89</td>\n",
       "      <td>88.0</td>\n",
       "      <td>NaN</td>\n",
       "      <td>NaN</td>\n",
       "      <td>Garmin Edge 1030</td>\n",
       "      <td>5020466545</td>\n",
       "      <td>95</td>\n",
       "    </tr>\n",
       "  </tbody>\n",
       "</table>\n",
       "<p>2 rows × 54 columns</p>\n",
       "</div>"
      ],
      "text/plain": [
       "                  When  Type                    Gear  \\\n",
       "0  2021-03-28 14:15:27  Ride  Canyon Ultimate CF SLX   \n",
       "1  2021-03-27 12:32:34  Ride  Canyon Ultimate CF SLX   \n",
       "\n",
       "                                        Name  Dist km  Elv m  Elapsed Time  \\\n",
       "0                        Fahrt am Nachmittag  90796.6  797.0         12497   \n",
       "1  #Südflügel - #Lockdownduo - Samstagscross  95537.9  769.0         18614   \n",
       "\n",
       "   Moving Time  Start Time Day of Week  ...  Power 250-300W  Power 300-350W  \\\n",
       "0        12014       51327      Sunday  ...            1318             742   \n",
       "1        16282       45154    Saturday  ...             424             249   \n",
       "\n",
       "   Power 350-400W  Power 400-450W  Power 450W+  City  State        Device/App  \\\n",
       "0             307             140        127.0   NaN    NaN  Garmin Edge 1030   \n",
       "1             150              89         88.0   NaN    NaN  Garmin Edge 1030   \n",
       "\n",
       "   Activity Id  filename  \n",
       "0   5026851534        95  \n",
       "1   5020466545        95  \n",
       "\n",
       "[2 rows x 54 columns]"
      ]
     },
     "execution_count": 2,
     "metadata": {},
     "output_type": "execute_result"
    }
   ],
   "source": [
    "#data has been saved using a .pkl file. \n",
    "path = './data/df_ride.pkl'\n",
    "df = pd.read_pickle(path)\n",
    "df.head(2)"
   ]
  },
  {
   "cell_type": "code",
   "execution_count": 3,
   "id": "41e2ecb3",
   "metadata": {},
   "outputs": [
    {
     "data": {
      "text/plain": [
       "(360985, 54)"
      ]
     },
     "execution_count": 3,
     "metadata": {},
     "output_type": "execute_result"
    }
   ],
   "source": [
    "# Never a bad idea - Quickly check the number of rows (observations) and columns (features) in the df\n",
    "df.shape"
   ]
  },
  {
   "cell_type": "code",
   "execution_count": 4,
   "id": "36857df4",
   "metadata": {},
   "outputs": [
    {
     "name": "stdout",
     "output_type": "stream",
     "text": [
      "<class 'pandas.core.frame.DataFrame'>\n",
      "Int64Index: 360985 entries, 0 to 416001\n",
      "Data columns (total 54 columns):\n",
      " #   Column                Non-Null Count   Dtype  \n",
      "---  ------                --------------   -----  \n",
      " 0   When                  360985 non-null  object \n",
      " 1   Type                  360985 non-null  object \n",
      " 2   Gear                  344166 non-null  object \n",
      " 3   Name                  360981 non-null  object \n",
      " 4   Dist km               360985 non-null  float64\n",
      " 5   Elv m                 360985 non-null  float64\n",
      " 6   Elapsed Time          360985 non-null  int64  \n",
      " 7   Moving Time           360985 non-null  int64  \n",
      " 8   Start Time            360985 non-null  int64  \n",
      " 9   Day of Week           360985 non-null  object \n",
      " 10  Speed km/h            360985 non-null  float64\n",
      " 11  Max Speed km/h        360985 non-null  float64\n",
      " 12  Pace /km              360985 non-null  float64\n",
      " 13  Max Pace /km          360985 non-null  float64\n",
      " 14  Pace /100m            360985 non-null  float64\n",
      " 15  Max Pace /100m        360985 non-null  float64\n",
      " 16  Pwr W                 360985 non-null  float64\n",
      " 17  Weighted Avg Pwr W    360985 non-null  int64  \n",
      " 18  Max Pwr W             106010 non-null  float64\n",
      " 19  Cad                   360985 non-null  float64\n",
      " 20  Heart                 203669 non-null  float64\n",
      " 21  Max Heart             360985 non-null  int64  \n",
      " 22  Elv High m            284450 non-null  float64\n",
      " 23  Elv Low m             284450 non-null  float64\n",
      " 24  Efficiency %          360985 non-null  float64\n",
      " 25  Elev/Dist m/km        360985 non-null  float64\n",
      " 26  Elev/Time m/h         360985 non-null  float64\n",
      " 27  W/HR                  360928 non-null  float64\n",
      " 28  Speed/HR              360985 non-null  float64\n",
      " 29  Temp °C               242158 non-null  float64\n",
      " 30  Cal                   360985 non-null  float64\n",
      " 31  Energy kJ             360985 non-null  float64\n",
      " 32  Dist start to end km  360985 non-null  float64\n",
      " 33  H/R Zone 1            360985 non-null  int64  \n",
      " 34  H/R Zone 2            360985 non-null  int64  \n",
      " 35  H/R Zone 3            360985 non-null  int64  \n",
      " 36  H/R Zone 4            360985 non-null  int64  \n",
      " 37  H/R Zone 5            360985 non-null  int64  \n",
      " 38  Power 0W              360985 non-null  int64  \n",
      " 39  Power 0-50W           360985 non-null  int64  \n",
      " 40  Power 50-100W         360985 non-null  int64  \n",
      " 41  Power 100-150W        360985 non-null  int64  \n",
      " 42  Power 150-200W        360985 non-null  int64  \n",
      " 43  Power 200-250W        360985 non-null  int64  \n",
      " 44  Power 250-300W        360985 non-null  int64  \n",
      " 45  Power 300-350W        360985 non-null  int64  \n",
      " 46  Power 350-400W        360985 non-null  int64  \n",
      " 47  Power 400-450W        360985 non-null  int64  \n",
      " 48  Power 450W+           297163 non-null  float64\n",
      " 49  City                  203319 non-null  object \n",
      " 50  State                 201756 non-null  object \n",
      " 51  Device/App            315723 non-null  object \n",
      " 52  Activity Id           360985 non-null  int64  \n",
      " 53  filename              360985 non-null  object \n",
      "dtypes: float64(24), int64(21), object(9)\n",
      "memory usage: 151.5+ MB\n"
     ]
    }
   ],
   "source": [
    "# Let us check some basic information for the columns (for example the data types)\n",
    "df.info()"
   ]
  },
  {
   "cell_type": "markdown",
   "id": "18575d7a",
   "metadata": {},
   "source": [
    "_________"
   ]
  },
  {
   "cell_type": "markdown",
   "id": "0c9adbf2",
   "metadata": {},
   "source": [
    "## Data Cleaning / Feature Engineering"
   ]
  },
  {
   "cell_type": "markdown",
   "id": "807cfea1",
   "metadata": {},
   "source": [
    "The following is pretty much dthe same as in [CyPer_EDA](CyPer_EDA.ipynb) with just small but important differences for the following predictive modeling. "
   ]
  },
  {
   "cell_type": "code",
   "execution_count": 5,
   "id": "42268ef7",
   "metadata": {},
   "outputs": [],
   "source": [
    "#To work with the `When` column and the data in it we have to transform the data type. \n",
    "#We do this with the function: `to_datetype`. By this function we convert the date type into *datetime*.\n",
    "df.When = pd.to_datetime(df.When)"
   ]
  },
  {
   "cell_type": "code",
   "execution_count": 6,
   "id": "0aa215e8",
   "metadata": {},
   "outputs": [],
   "source": [
    "# Convert timestamp ('When') to datetime object\n",
    "# Extract additional features from timestamp column\n",
    "df = df.assign(\n",
    "    timestamp = lambda x: pd.to_datetime(x['When']), \n",
    "    date = lambda x: x['When'].dt.date,\n",
    "    year = lambda x: x['When'].dt.year,\n",
    "    month = lambda x: x['When'].dt.month,\n",
    "    day = lambda x: x['When'].dt.day,\n",
    "    dayofyear = lambda x: x['When'].dt.dayofyear,\n",
    "    hour = lambda x: x['When'].dt.hour,\n",
    "    minute = lambda x: x['When'].dt.minute,\n",
    "    second = lambda x: x['When'].dt.second,\n",
    ")"
   ]
  },
  {
   "cell_type": "code",
   "execution_count": 7,
   "id": "6be21850",
   "metadata": {},
   "outputs": [],
   "source": [
    "# Rename columns in a more pythonic way\n",
    "df = df.rename(columns={\n",
    "    'Type': 'type', \n",
    "    'Gear': 'gear', \n",
    "    'Name': 'name',\n",
    "    'Dist km': 'dist_km',\n",
    "    'Elv m': 'elv_m',\n",
    "    'Elapsed Time': 'elapsed_time',\n",
    "    'Moving Time': 'moving_time',\n",
    "    'Start Time': 'start_time',\n",
    "    'Day of Week': 'day_of_week',\n",
    "    'Speed km/h': 'speed_km/h',\n",
    "    'Max Speed km/h': 'max_speed_km/h',\n",
    "    'Pace /km': 'pace_min/km', \n",
    "    'Max Pace /km': 'max_pace_min/km', \n",
    "    'Pace /100m': 'pace_min/100m',\n",
    "    'Max Pace /100m': 'max_pace_min/100m',\n",
    "    'Pwr W': 'power_W',\n",
    "    'Weighted Avg Pwr W': 'weighted_avg_power_W',\n",
    "    'Max Pwr W': 'max_power_W',\n",
    "    'Cad': 'cad',\n",
    "    'Heart': 'heart',\n",
    "    'Max Heart': 'max_heart',\n",
    "    'Elv High m': 'elv_high_m',\n",
    "    'Elv Low m': 'elv_low_m',\n",
    "    'Efficiency %': 'efficiency_%',\n",
    "    'Elev/Dist m/km': 'elv/dist_m/km',\n",
    "    'Elev/Time m/h': 'elv/time_m/h',\n",
    "    'W/HR': 'w/hr',\n",
    "    'Speed/HR': 'speed/hr',\n",
    "    'Temp °C': 'temp_°C',\n",
    "    'Cal': 'cal',\n",
    "    'Energy kJ': 'energy_kJ',\n",
    "    'Dist start to end km': 'dist_start_to_end_km',\n",
    "    'H/R Zone 1': 'h/r_zone1',\n",
    "    'H/R Zone 2': 'h/r_zone2',\n",
    "    'H/R Zone 3': 'h/r_zone3',\n",
    "    'H/R Zone 4': 'h/r_zone4',\n",
    "    'H/R Zone 5': 'h/r_zone5',\n",
    "    'Power 0W': 'power_0W',\n",
    "    'Power 0-50W': 'power_0-50W',\n",
    "    'Power 50-100W': 'power_50-100W',\n",
    "    'Power 100-150W': 'power_100-150W',\n",
    "    'Power 150-200W': 'power_150-200W',\n",
    "    'Power 200-250W': 'power_200-250W',\n",
    "    'Power 250-300W': 'power_250-300W',\n",
    "    'Power 300-350W': 'power_300-350W',\n",
    "    'Power 350-400W': 'power_350-400W',\n",
    "    'Power 400-450W': 'power_400-450W',\n",
    "    'Power 450W+': 'power_450W+',\n",
    "    'Description': 'description',\n",
    "    'City': 'city',\n",
    "    'State': 'state',\n",
    "    'Device/App': 'device/app',\n",
    "    'Activity Id': 'activity_id',\n",
    "    'filename': 'cyclist_id'\n",
    "    }\n",
    ")"
   ]
  },
  {
   "cell_type": "code",
   "execution_count": 8,
   "id": "5665c11b",
   "metadata": {},
   "outputs": [],
   "source": [
    "# Convert and transform data\n",
    "df['dist_km'] = (df['dist_km'] / 1000).round(2)\n",
    "df['speed_km/h'] = (df['speed_km/h'] * 3.6).round(1)\n",
    "df['max_speed_km/h'] = (df['max_speed_km/h'] * 3.6).round(1)\n",
    "df['power_W'] = df['power_W'].round(0)\n",
    "df['heart'] = df['heart'].round(0)\n",
    "df['temp_°C'] = df['temp_°C'].round(0)\n",
    "df['efficiency_%'] = df['efficiency_%'].round(2)\n",
    "df['dist_start_to_end_km'] = (df['dist_start_to_end_km'] / 1000).round(2)"
   ]
  },
  {
   "cell_type": "code",
   "execution_count": 9,
   "id": "9ab6b0d7",
   "metadata": {},
   "outputs": [],
   "source": [
    "# drop duplicates\n",
    "df.drop_duplicates(subset=\"activity_id\", inplace=True)"
   ]
  },
  {
   "cell_type": "code",
   "execution_count": 10,
   "id": "70171529",
   "metadata": {},
   "outputs": [],
   "source": [
    "# dist_km has 2902 (1.0%) zeros\n",
    "# drop all rows with a 'dist_km' of 0\n",
    "df = df[df.dist_km != 0]"
   ]
  },
  {
   "cell_type": "code",
   "execution_count": 11,
   "id": "8571c337",
   "metadata": {},
   "outputs": [],
   "source": [
    "# 'speed_km/h' has 2937 (1.1%) zeros\n",
    "# drop all rows with a 'speed_km/h' of 0\n",
    "df = df[df['speed_km/h'] != 0]"
   ]
  },
  {
   "cell_type": "code",
   "execution_count": 12,
   "id": "90c38faf",
   "metadata": {},
   "outputs": [],
   "source": [
    "# delate all activities with an average speed > 70km/h\n",
    "df = df[df['speed_km/h'] <= 70]"
   ]
  },
  {
   "cell_type": "code",
   "execution_count": 13,
   "id": "8a4e176d",
   "metadata": {},
   "outputs": [],
   "source": [
    "# delet all rows that have 'elv_m' is 0 and the activitie is before 01.02.2018\n",
    "df = df.drop(df[(df['elv_m'] == 0) & (df['When'] <= '2018-02-01')].index)"
   ]
  },
  {
   "cell_type": "code",
   "execution_count": 14,
   "id": "1bd6909f",
   "metadata": {},
   "outputs": [],
   "source": [
    "# delate all 'temp_°C' with an temp greater then 70°C\n",
    "df = df[df['temp_°C'] <= 70]"
   ]
  },
  {
   "cell_type": "code",
   "execution_count": 15,
   "id": "87ccace3",
   "metadata": {},
   "outputs": [],
   "source": [
    "# replace all NaN in'temp_°C' woth median of 'temp_°C'\n",
    "df['temp_°C'] = df['temp_°C'].fillna((df['temp_°C'].median()))"
   ]
  },
  {
   "cell_type": "code",
   "execution_count": 16,
   "id": "c68e877f",
   "metadata": {},
   "outputs": [],
   "source": [
    "df = df[df['heart'].notna()]"
   ]
  },
  {
   "cell_type": "code",
   "execution_count": 17,
   "id": "bdda6a60",
   "metadata": {},
   "outputs": [],
   "source": [
    "df['heart'] = df['heart'].mask(df['heart'] == 0, df['heart'].median(skipna=True))"
   ]
  },
  {
   "cell_type": "code",
   "execution_count": 18,
   "id": "e89e8f27",
   "metadata": {},
   "outputs": [],
   "source": [
    "# replace all 0 in'energy_kJ' with mean of 'energy_kJ'\n",
    "df['energy_kJ'] = df['energy_kJ'].mask(df['energy_kJ'] == 0, df['energy_kJ'].mean(skipna=True))"
   ]
  },
  {
   "cell_type": "code",
   "execution_count": 19,
   "id": "016b54cb",
   "metadata": {},
   "outputs": [],
   "source": [
    "# replace all 0 in'cal' with mean of 'cal'\n",
    "df['cal'] = df['cal'].mask(df['cal'] == 0, df['cal'].mean(skipna=True))"
   ]
  },
  {
   "cell_type": "code",
   "execution_count": 20,
   "id": "64d644aa",
   "metadata": {},
   "outputs": [],
   "source": [
    "# replace all 0 in'cad' with median of 'cad'\n",
    "df['cad'] = df['cad'].mask(df['cad'] == 0, df['cad'].median(skipna=True))"
   ]
  },
  {
   "cell_type": "code",
   "execution_count": 21,
   "id": "48953f8c",
   "metadata": {},
   "outputs": [],
   "source": [
    "# delete all activities with dist_km < 2km\n",
    "df = df.drop(df[(df['dist_km'] <= 1.99)].index)"
   ]
  },
  {
   "cell_type": "code",
   "execution_count": 22,
   "id": "dc65efd2",
   "metadata": {},
   "outputs": [],
   "source": [
    "# replace all NaN in'elv_high_m' with mean of 'elv_high_m'\n",
    "df['elv_high_m'] = df['elv_high_m'].fillna((df['elv_high_m'].mean()))"
   ]
  },
  {
   "cell_type": "code",
   "execution_count": 23,
   "id": "4bf03b64",
   "metadata": {},
   "outputs": [],
   "source": [
    "# replace all NaN in'elv_low_m' with mean of 'elv_low_m'\n",
    "df['elv_low_m'] = df['elv_low_m'].fillna((df['elv_low_m'].mean()))"
   ]
  },
  {
   "cell_type": "code",
   "execution_count": 24,
   "id": "43e267ad",
   "metadata": {},
   "outputs": [],
   "source": [
    "# exclute all rows without input for power_... and h/r_zone...\n",
    "df = df[df[['h/r_zone1', 'h/r_zone2', 'h/r_zone3', 'h/r_zone4', 'h/r_zone5']].ne(0, axis=0).any(axis=1)]"
   ]
  },
  {
   "cell_type": "code",
   "execution_count": 25,
   "id": "19a210f6",
   "metadata": {},
   "outputs": [],
   "source": [
    "#Drop columns with to many missing values\n",
    "#max_power_W has 194319 (69.6%) missing values\n",
    "#weighted_avg_power_W has 193704 (69.4%) zeros\n",
    "df.drop(['When', 'type', 'gear', 'city', 'state', 'device/app', 'activity_id', 'cyclist_id', 'power_0W', 'power_0-50W', 'power_50-100W', 'power_100-150W',\n",
    "       'power_150-200W', 'power_200-250W', 'power_250-300W', 'power_300-350W','max_pace_min/km','max_pace_min/100m',\n",
    "       'power_350-400W', 'power_400-450W','date', 'timestamp', 'power_450W+', 'max_power_W', 'weighted_avg_power_W', 'name', 'dist_start_to_end_km', 'max_speed_km/h', 'w/hr'], axis=1, inplace=True)"
   ]
  },
  {
   "cell_type": "code",
   "execution_count": 26,
   "id": "3afca3f3",
   "metadata": {},
   "outputs": [],
   "source": [
    "df.reset_index(drop=True, inplace=True)"
   ]
  },
  {
   "cell_type": "code",
   "execution_count": 27,
   "id": "6a537d71",
   "metadata": {},
   "outputs": [
    {
     "data": {
      "text/plain": [
       "False"
      ]
     },
     "execution_count": 27,
     "metadata": {},
     "output_type": "execute_result"
    }
   ],
   "source": [
    "# Checking for NaN values in the df_model data frame\n",
    "df.isna().values.any()"
   ]
  },
  {
   "cell_type": "code",
   "execution_count": 28,
   "id": "704870e1",
   "metadata": {},
   "outputs": [
    {
     "data": {
      "text/html": [
       "<div>\n",
       "<style scoped>\n",
       "    .dataframe tbody tr th:only-of-type {\n",
       "        vertical-align: middle;\n",
       "    }\n",
       "\n",
       "    .dataframe tbody tr th {\n",
       "        vertical-align: top;\n",
       "    }\n",
       "\n",
       "    .dataframe thead th {\n",
       "        text-align: right;\n",
       "    }\n",
       "</style>\n",
       "<table border=\"1\" class=\"dataframe\">\n",
       "  <thead>\n",
       "    <tr style=\"text-align: right;\">\n",
       "      <th></th>\n",
       "      <th>dist_km</th>\n",
       "      <th>elv_m</th>\n",
       "      <th>elapsed_time</th>\n",
       "      <th>moving_time</th>\n",
       "      <th>start_time</th>\n",
       "      <th>day_of_week</th>\n",
       "      <th>speed_km/h</th>\n",
       "      <th>pace_min/km</th>\n",
       "      <th>pace_min/100m</th>\n",
       "      <th>power_W</th>\n",
       "      <th>...</th>\n",
       "      <th>h/r_zone3</th>\n",
       "      <th>h/r_zone4</th>\n",
       "      <th>h/r_zone5</th>\n",
       "      <th>year</th>\n",
       "      <th>month</th>\n",
       "      <th>day</th>\n",
       "      <th>dayofyear</th>\n",
       "      <th>hour</th>\n",
       "      <th>minute</th>\n",
       "      <th>second</th>\n",
       "    </tr>\n",
       "  </thead>\n",
       "  <tbody>\n",
       "    <tr>\n",
       "      <th>83530</th>\n",
       "      <td>17.33</td>\n",
       "      <td>48.0</td>\n",
       "      <td>19370</td>\n",
       "      <td>3454</td>\n",
       "      <td>30726</td>\n",
       "      <td>Wednesday</td>\n",
       "      <td>18.1</td>\n",
       "      <td>199.4</td>\n",
       "      <td>19.94</td>\n",
       "      <td>72.0</td>\n",
       "      <td>...</td>\n",
       "      <td>0</td>\n",
       "      <td>0</td>\n",
       "      <td>0</td>\n",
       "      <td>2020</td>\n",
       "      <td>7</td>\n",
       "      <td>1</td>\n",
       "      <td>183</td>\n",
       "      <td>8</td>\n",
       "      <td>32</td>\n",
       "      <td>6</td>\n",
       "    </tr>\n",
       "    <tr>\n",
       "      <th>84042</th>\n",
       "      <td>17.91</td>\n",
       "      <td>34.0</td>\n",
       "      <td>49733</td>\n",
       "      <td>3302</td>\n",
       "      <td>36809</td>\n",
       "      <td>Saturday</td>\n",
       "      <td>19.5</td>\n",
       "      <td>184.4</td>\n",
       "      <td>18.44</td>\n",
       "      <td>23.0</td>\n",
       "      <td>...</td>\n",
       "      <td>0</td>\n",
       "      <td>0</td>\n",
       "      <td>0</td>\n",
       "      <td>2017</td>\n",
       "      <td>10</td>\n",
       "      <td>21</td>\n",
       "      <td>294</td>\n",
       "      <td>10</td>\n",
       "      <td>13</td>\n",
       "      <td>29</td>\n",
       "    </tr>\n",
       "  </tbody>\n",
       "</table>\n",
       "<p>2 rows × 34 columns</p>\n",
       "</div>"
      ],
      "text/plain": [
       "       dist_km  elv_m  elapsed_time  moving_time  start_time day_of_week  \\\n",
       "83530    17.33   48.0         19370         3454       30726   Wednesday   \n",
       "84042    17.91   34.0         49733         3302       36809    Saturday   \n",
       "\n",
       "       speed_km/h  pace_min/km  pace_min/100m  power_W  ...  h/r_zone3  \\\n",
       "83530        18.1        199.4          19.94     72.0  ...          0   \n",
       "84042        19.5        184.4          18.44     23.0  ...          0   \n",
       "\n",
       "       h/r_zone4  h/r_zone5  year  month  day  dayofyear  hour  minute  second  \n",
       "83530          0          0  2020      7    1        183     8      32       6  \n",
       "84042          0          0  2017     10   21        294    10      13      29  \n",
       "\n",
       "[2 rows x 34 columns]"
      ]
     },
     "execution_count": 28,
     "metadata": {},
     "output_type": "execute_result"
    }
   ],
   "source": [
    "# Find out the lines with inf values\n",
    "df[(df == np.inf).any(axis=1)]"
   ]
  },
  {
   "cell_type": "code",
   "execution_count": 29,
   "id": "2ca89662",
   "metadata": {},
   "outputs": [],
   "source": [
    "# delet the lines with inf values\n",
    "df = df.drop(df.index[[83530,84042]])"
   ]
  },
  {
   "cell_type": "code",
   "execution_count": 30,
   "id": "22367931",
   "metadata": {},
   "outputs": [],
   "source": [
    "# delete all rows with 0 in'power_W'\n",
    "df = df[df['power_W'] != 0]"
   ]
  },
  {
   "cell_type": "markdown",
   "id": "b6654370",
   "metadata": {},
   "source": [
    "### Creat Dummy Varaible"
   ]
  },
  {
   "cell_type": "markdown",
   "id": "6e73ff68",
   "metadata": {},
   "source": [
    "The `\"day_of_week\"` column is categorical, not numeric. So we have to convert that to a one-hot/dummy:"
   ]
  },
  {
   "cell_type": "code",
   "execution_count": 31,
   "id": "d42a07dc",
   "metadata": {},
   "outputs": [],
   "source": [
    "#create dummie-variables\n",
    "day_of_week_dummies = pd.get_dummies(df['day_of_week'], prefix='day_of_week', drop_first=True)"
   ]
  },
  {
   "cell_type": "code",
   "execution_count": 32,
   "id": "c4c97dab",
   "metadata": {},
   "outputs": [],
   "source": [
    "df = pd.concat([df.drop(['day_of_week'], axis = 1), day_of_week_dummies], axis = 1)"
   ]
  },
  {
   "cell_type": "markdown",
   "id": "ea580410",
   "metadata": {},
   "source": [
    "## Export of Data"
   ]
  },
  {
   "cell_type": "markdown",
   "id": "e3de6603",
   "metadata": {},
   "source": [
    "The data modification ends at this point. The DataFrame (df) is organized, cleaned and modified. For purity and performance reasons, the Machine Learning part of this project will be continued in another Jupyter Notebook. The interface between the Jupyter Notebooks will be given using a `.pkl`file.\n",
    "- `df_model.pkl` --> DataFrame with only the most important features ready for computational demanding ML models"
   ]
  },
  {
   "cell_type": "code",
   "execution_count": 33,
   "id": "8d1818d9",
   "metadata": {},
   "outputs": [],
   "source": [
    "df_model = df.copy()"
   ]
  },
  {
   "cell_type": "code",
   "execution_count": 34,
   "id": "4cb0f109",
   "metadata": {},
   "outputs": [
    {
     "name": "stdout",
     "output_type": "stream",
     "text": [
      "This cell was last run on: \n",
      "2021-04-25 15:03:18.975093\n"
     ]
    }
   ],
   "source": [
    "# save the cleaned df as .pkl file\n",
    "path = './data/df_model.pkl'\n",
    "df_model.to_pickle(path)\n",
    "Path(path).is_file()\n",
    "\n",
    "print('This cell was last run on: ')\n",
    "print(datetime.now())"
   ]
  }
 ],
 "metadata": {
  "kernelspec": {
   "display_name": "Python 3",
   "language": "python",
   "name": "python3"
  },
  "language_info": {
   "codemirror_mode": {
    "name": "ipython",
    "version": 3
   },
   "file_extension": ".py",
   "mimetype": "text/x-python",
   "name": "python",
   "nbconvert_exporter": "python",
   "pygments_lexer": "ipython3",
   "version": "3.8.5"
  }
 },
 "nbformat": 4,
 "nbformat_minor": 5
}
