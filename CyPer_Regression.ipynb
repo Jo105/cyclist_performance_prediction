{
 "cells": [
  {
   "cell_type": "markdown",
   "id": "5382dde1",
   "metadata": {},
   "source": [
    "# Ridge (L2) / Lasso (L1) / ElasticNet Regression\n",
    "\n",
    "______"
   ]
  },
  {
   "cell_type": "markdown",
   "id": "0eeaf94b",
   "metadata": {},
   "source": [
    "## Environment Set-Up\n",
    "\n",
    "### Load relevant Python Packages"
   ]
  },
  {
   "cell_type": "code",
   "execution_count": 28,
   "id": "f179b643",
   "metadata": {},
   "outputs": [],
   "source": [
    "import pandas as pd\n",
    "import numpy as np\n",
    "\n",
    "from sklearn.model_selection import train_test_split\n",
    "from sklearn.linear_model import Ridge\n",
    "from sklearn.linear_model import Lasso\n",
    "from sklearn.linear_model import ElasticNet\n",
    "from sklearn.metrics import mean_squared_error, r2_score"
   ]
  },
  {
   "cell_type": "markdown",
   "id": "23403bea",
   "metadata": {},
   "source": [
    "### Data Import"
   ]
  },
  {
   "cell_type": "code",
   "execution_count": 2,
   "id": "b4b2ff9b",
   "metadata": {},
   "outputs": [
    {
     "data": {
      "text/html": [
       "<div>\n",
       "<style scoped>\n",
       "    .dataframe tbody tr th:only-of-type {\n",
       "        vertical-align: middle;\n",
       "    }\n",
       "\n",
       "    .dataframe tbody tr th {\n",
       "        vertical-align: top;\n",
       "    }\n",
       "\n",
       "    .dataframe thead th {\n",
       "        text-align: right;\n",
       "    }\n",
       "</style>\n",
       "<table border=\"1\" class=\"dataframe\">\n",
       "  <thead>\n",
       "    <tr style=\"text-align: right;\">\n",
       "      <th></th>\n",
       "      <th>dist_km</th>\n",
       "      <th>elv_m</th>\n",
       "      <th>elapsed_time</th>\n",
       "      <th>moving_time</th>\n",
       "      <th>start_time</th>\n",
       "      <th>day_of_week</th>\n",
       "      <th>speed_km/h</th>\n",
       "      <th>pace_min/km</th>\n",
       "      <th>pace_min/100m</th>\n",
       "      <th>power_W</th>\n",
       "      <th>...</th>\n",
       "      <th>h/r_zone3</th>\n",
       "      <th>h/r_zone4</th>\n",
       "      <th>h/r_zone5</th>\n",
       "      <th>year</th>\n",
       "      <th>month</th>\n",
       "      <th>day</th>\n",
       "      <th>dayofyear</th>\n",
       "      <th>hour</th>\n",
       "      <th>minute</th>\n",
       "      <th>second</th>\n",
       "    </tr>\n",
       "  </thead>\n",
       "  <tbody>\n",
       "    <tr>\n",
       "      <th>0</th>\n",
       "      <td>90.80</td>\n",
       "      <td>797.0</td>\n",
       "      <td>12497</td>\n",
       "      <td>12014</td>\n",
       "      <td>51327</td>\n",
       "      <td>Sunday</td>\n",
       "      <td>27.2</td>\n",
       "      <td>132.3</td>\n",
       "      <td>13.23</td>\n",
       "      <td>186.0</td>\n",
       "      <td>...</td>\n",
       "      <td>912</td>\n",
       "      <td>0</td>\n",
       "      <td>0</td>\n",
       "      <td>2021</td>\n",
       "      <td>3</td>\n",
       "      <td>28</td>\n",
       "      <td>87</td>\n",
       "      <td>14</td>\n",
       "      <td>15</td>\n",
       "      <td>27</td>\n",
       "    </tr>\n",
       "    <tr>\n",
       "      <th>1</th>\n",
       "      <td>95.54</td>\n",
       "      <td>769.0</td>\n",
       "      <td>18614</td>\n",
       "      <td>16282</td>\n",
       "      <td>45154</td>\n",
       "      <td>Saturday</td>\n",
       "      <td>21.1</td>\n",
       "      <td>170.4</td>\n",
       "      <td>17.04</td>\n",
       "      <td>94.0</td>\n",
       "      <td>...</td>\n",
       "      <td>1341</td>\n",
       "      <td>276</td>\n",
       "      <td>0</td>\n",
       "      <td>2021</td>\n",
       "      <td>3</td>\n",
       "      <td>27</td>\n",
       "      <td>86</td>\n",
       "      <td>12</td>\n",
       "      <td>32</td>\n",
       "      <td>34</td>\n",
       "    </tr>\n",
       "  </tbody>\n",
       "</table>\n",
       "<p>2 rows × 34 columns</p>\n",
       "</div>"
      ],
      "text/plain": [
       "   dist_km  elv_m  elapsed_time  moving_time  start_time day_of_week  \\\n",
       "0    90.80  797.0         12497        12014       51327      Sunday   \n",
       "1    95.54  769.0         18614        16282       45154    Saturday   \n",
       "\n",
       "   speed_km/h  pace_min/km  pace_min/100m  power_W  ...  h/r_zone3  h/r_zone4  \\\n",
       "0        27.2        132.3          13.23    186.0  ...        912          0   \n",
       "1        21.1        170.4          17.04     94.0  ...       1341        276   \n",
       "\n",
       "   h/r_zone5  year  month  day  dayofyear  hour  minute  second  \n",
       "0          0  2021      3   28         87    14      15      27  \n",
       "1          0  2021      3   27         86    12      32      34  \n",
       "\n",
       "[2 rows x 34 columns]"
      ]
     },
     "execution_count": 2,
     "metadata": {},
     "output_type": "execute_result"
    }
   ],
   "source": [
    "#data has been saved using a .pkl file \n",
    "path = './data/df_model.pkl'\n",
    "df_model = pd.read_pickle(path)\n",
    "df_model.head(2)"
   ]
  },
  {
   "cell_type": "markdown",
   "id": "6ddd070f",
   "metadata": {},
   "source": [
    "### Setting Up Training & Test Dataframes\n",
    "\n",
    "The dataframe is split into a training set (80%) and a test set (20%)."
   ]
  },
  {
   "cell_type": "code",
   "execution_count": 7,
   "id": "2be22dc7",
   "metadata": {},
   "outputs": [],
   "source": [
    "# define features and target\n",
    "X = df_model.drop('power_W', axis=1)\n",
    "y = df_model.power_W"
   ]
  },
  {
   "cell_type": "code",
   "execution_count": 8,
   "id": "772bf953",
   "metadata": {},
   "outputs": [],
   "source": [
    "# train-test-split\n",
    "X_train, X_test, y_train, y_test = train_test_split(X, y,test_size = .2, random_state=105)"
   ]
  },
  {
   "cell_type": "code",
   "execution_count": 9,
   "id": "1c8c47a9",
   "metadata": {},
   "outputs": [
    {
     "name": "stdout",
     "output_type": "stream",
     "text": [
      "(90132, 38)\n",
      "(90132,)\n",
      "(22534, 38)\n",
      "(22534,)\n"
     ]
    }
   ],
   "source": [
    "# Let's check the shape of our dataframes\n",
    "print(X_train.shape)\n",
    "print(y_train.shape)\n",
    "print(X_test.shape)\n",
    "print(y_test.shape)"
   ]
  },
  {
   "cell_type": "markdown",
   "id": "62a0cf6e",
   "metadata": {},
   "source": [
    "General information: Ridge Regression and Lasso Regression can be used to reduce model complexity and prevent overfitting which may result from simple linear regression."
   ]
  },
  {
   "cell_type": "markdown",
   "id": "b3b172d9",
   "metadata": {},
   "source": [
    "## Ridge Regression (L2 regularization)"
   ]
  },
  {
   "cell_type": "markdown",
   "id": "51d7ad96",
   "metadata": {},
   "source": [
    "A commenly used alternative to the \"normal\" linear regression model is Ridge regression. It is also a linear model that uses basically the same formula that is used for ordinary least squares. However, our ridge regression model will also try to keep the magnitude of coefficients to be as small as possible. In other words, all entries of w should be close to zero. We can also say, each feature should have as little effect on the outcome as possible while still predicting well.\n",
    "\n",
    "Performing L2 regularization with different alpha values:"
   ]
  },
  {
   "cell_type": "code",
   "execution_count": 10,
   "id": "98c24f71",
   "metadata": {},
   "outputs": [
    {
     "name": "stderr",
     "output_type": "stream",
     "text": [
      "/Users/johannes/cyclist_performance_prediction/.venv/lib/python3.8/site-packages/sklearn/linear_model/_ridge.py:147: LinAlgWarning: Ill-conditioned matrix (rcond=8.86264e-18): result may not be accurate.\n",
      "  return linalg.solve(A, Xy, sym_pos=True,\n"
     ]
    },
    {
     "data": {
      "text/plain": [
       "Ridge(alpha=1)"
      ]
     },
     "execution_count": 10,
     "metadata": {},
     "output_type": "execute_result"
    }
   ],
   "source": [
    "# initialize and train model with (default value) alpha = 1 \n",
    "ridge = Ridge(alpha=1)\n",
    "ridge.fit(X_train, y_train)"
   ]
  },
  {
   "cell_type": "code",
   "execution_count": 11,
   "id": "5879d848",
   "metadata": {},
   "outputs": [],
   "source": [
    "# predict on test-set\n",
    "y_pred_ridge = ridge.predict(X_test)"
   ]
  },
  {
   "cell_type": "code",
   "execution_count": 12,
   "id": "d02dd731",
   "metadata": {},
   "outputs": [
    {
     "name": "stdout",
     "output_type": "stream",
     "text": [
      "Train score: 0.65\n",
      "Test score: 0.68\n"
     ]
    }
   ],
   "source": [
    "# R-squared scores for train and test set\n",
    "train_score_ridge = ridge.score(X_train, y_train)\n",
    "test_score_ridge = ridge.score(X_test, y_test)\n",
    "print(\"Train score: {:.2f}\".format(train_score_ridge))\n",
    "print(\"Test score: {:.2f}\".format(test_score_ridge))"
   ]
  },
  {
   "cell_type": "code",
   "execution_count": 13,
   "id": "6d4e2797",
   "metadata": {},
   "outputs": [
    {
     "name": "stdout",
     "output_type": "stream",
     "text": [
      "MSE: 632.35\n"
     ]
    }
   ],
   "source": [
    "# RMSE of test set\n",
    "print(\"MSE:\", round((mean_squared_error(y_test, y_pred_ridge)), 3))"
   ]
  },
  {
   "cell_type": "code",
   "execution_count": null,
   "id": "de9c86ab",
   "metadata": {},
   "outputs": [],
   "source": []
  },
  {
   "cell_type": "code",
   "execution_count": 14,
   "id": "6287ef72",
   "metadata": {},
   "outputs": [
    {
     "name": "stderr",
     "output_type": "stream",
     "text": [
      "/Users/johannes/cyclist_performance_prediction/.venv/lib/python3.8/site-packages/sklearn/linear_model/_ridge.py:147: LinAlgWarning: Ill-conditioned matrix (rcond=8.86264e-17): result may not be accurate.\n",
      "  return linalg.solve(A, Xy, sym_pos=True,\n"
     ]
    },
    {
     "data": {
      "text/plain": [
       "Ridge(alpha=10)"
      ]
     },
     "execution_count": 14,
     "metadata": {},
     "output_type": "execute_result"
    }
   ],
   "source": [
    "# initialize and train model with alpha = 10 \n",
    "ridge_10 = Ridge(alpha=10)\n",
    "ridge_10.fit(X_train, y_train)"
   ]
  },
  {
   "cell_type": "code",
   "execution_count": 15,
   "id": "89f358a7",
   "metadata": {},
   "outputs": [],
   "source": [
    "# predict on test-set\n",
    "y_pred_ridge_10 = ridge_10.predict(X_test)"
   ]
  },
  {
   "cell_type": "code",
   "execution_count": 16,
   "id": "423c105f",
   "metadata": {},
   "outputs": [
    {
     "name": "stdout",
     "output_type": "stream",
     "text": [
      "Train score: 0.65\n",
      "Test score: 0.68\n"
     ]
    }
   ],
   "source": [
    "# R-squared scores for train and test set\n",
    "train_score_ridge_10 = ridge_10.score(X_train, y_train)\n",
    "test_score_ridge_10 = ridge_10.score(X_test, y_test)\n",
    "print(\"Train score: {:.2f}\".format(train_score_ridge_10))\n",
    "print(\"Test score: {:.2f}\".format(test_score_ridge_10))"
   ]
  },
  {
   "cell_type": "code",
   "execution_count": 18,
   "id": "81cbbb59",
   "metadata": {},
   "outputs": [
    {
     "name": "stdout",
     "output_type": "stream",
     "text": [
      "MSE: 632.336\n"
     ]
    }
   ],
   "source": [
    "# RMSE of test set\n",
    "print(\"MSE:\", round(mean_squared_error(y_test, y_pred_ridge_10), 3))"
   ]
  },
  {
   "cell_type": "code",
   "execution_count": null,
   "id": "dad4cf9f",
   "metadata": {},
   "outputs": [],
   "source": []
  },
  {
   "cell_type": "code",
   "execution_count": 19,
   "id": "9a4eff9e",
   "metadata": {},
   "outputs": [
    {
     "name": "stderr",
     "output_type": "stream",
     "text": [
      "/Users/johannes/cyclist_performance_prediction/.venv/lib/python3.8/site-packages/sklearn/linear_model/_ridge.py:147: LinAlgWarning: Ill-conditioned matrix (rcond=8.86264e-19): result may not be accurate.\n",
      "  return linalg.solve(A, Xy, sym_pos=True,\n"
     ]
    },
    {
     "data": {
      "text/plain": [
       "Ridge(alpha=0.1)"
      ]
     },
     "execution_count": 19,
     "metadata": {},
     "output_type": "execute_result"
    }
   ],
   "source": [
    "# initialize and train model with alpha = 0.1\n",
    "ridge_01 = Ridge(alpha=0.1)\n",
    "ridge_01.fit(X_train, y_train)"
   ]
  },
  {
   "cell_type": "code",
   "execution_count": 20,
   "id": "e79ef183",
   "metadata": {},
   "outputs": [],
   "source": [
    "# predict on test-set\n",
    "y_pred_ridge_01 = ridge_01.predict(X_test)"
   ]
  },
  {
   "cell_type": "code",
   "execution_count": 21,
   "id": "6dbe3f18",
   "metadata": {},
   "outputs": [
    {
     "name": "stdout",
     "output_type": "stream",
     "text": [
      "Train score: 0.65\n",
      "Test score: 0.68\n"
     ]
    }
   ],
   "source": [
    "# R-squared scores for train and test set\n",
    "train_score_ridge_01 = ridge_01.score(X_train, y_train)\n",
    "test_score_ridge_01 = ridge_01.score(X_test, y_test)\n",
    "print(\"Train score: {:.2f}\".format(train_score_ridge_01))\n",
    "print(\"Test score: {:.2f}\".format(test_score_ridge_01))"
   ]
  },
  {
   "cell_type": "code",
   "execution_count": 23,
   "id": "0f4dccd8",
   "metadata": {},
   "outputs": [
    {
     "name": "stdout",
     "output_type": "stream",
     "text": [
      "MSE: 632.352\n"
     ]
    }
   ],
   "source": [
    "# RMSE of test set\n",
    "print(\"MSE:\", round(mean_squared_error(y_test, y_pred_ridge_01), 3))"
   ]
  },
  {
   "cell_type": "code",
   "execution_count": null,
   "id": "29c0a07b",
   "metadata": {},
   "outputs": [],
   "source": []
  },
  {
   "cell_type": "markdown",
   "id": "eaf55e19",
   "metadata": {},
   "source": [
    "## Lasso Regression (L1 regularization)"
   ]
  },
  {
   "cell_type": "markdown",
   "id": "3561520a",
   "metadata": {},
   "source": [
    "An alternative to Ridge is Lasso regression. Similarly to ridge regression lasso restricts coefficients to be close to zero. It does so in a slightly different way so that when using lasso some coefficients become exactly zero. This means some features are entirely ignored by the model. It can be seen as an automatic feature selection which makes models often easier to interpret and can reveal the most important features.\n",
    "\n",
    "Performing L1 regularization with different alpha values:"
   ]
  },
  {
   "cell_type": "code",
   "execution_count": 24,
   "id": "c89bb277",
   "metadata": {},
   "outputs": [
    {
     "name": "stdout",
     "output_type": "stream",
     "text": [
      "Train score: 0.65\n",
      "Test score: 0.68\n",
      "MSE: 634.891\n",
      "# features:  24\n"
     ]
    }
   ],
   "source": [
    "# initialize and train model with (default value) alpha = 1.0\n",
    "lasso = Lasso(alpha=1, max_iter=10e5)\n",
    "lasso.fit(X_train,y_train)\n",
    "\n",
    "# predict on test-set\n",
    "y_pred_lasso = lasso.predict(X_test)\n",
    "\n",
    "# R-squared scores for train and test set\n",
    "train_score_lasso = lasso.score(X_train, y_train)\n",
    "test_score_lasso = lasso.score(X_test, y_test)\n",
    "print(\"Train score: {:.2f}\".format(train_score_lasso))\n",
    "print(\"Test score: {:.2f}\".format(test_score_lasso))\n",
    "\n",
    "# RMSE of test set\n",
    "print(\"MSE:\", round(mean_squared_error(y_test, y_pred_lasso), 3))\n",
    "\n",
    "# number of features used\n",
    "coeff_used = np.sum(lasso.coef_!=0)\n",
    "print(\"# features: \", coeff_used)"
   ]
  },
  {
   "cell_type": "code",
   "execution_count": null,
   "id": "729d18b1",
   "metadata": {},
   "outputs": [],
   "source": []
  },
  {
   "cell_type": "code",
   "execution_count": 25,
   "id": "d12d834b",
   "metadata": {},
   "outputs": [
    {
     "name": "stdout",
     "output_type": "stream",
     "text": [
      "Train score: 0.65\n",
      "Test score: 0.68\n",
      "MSE: 632.294\n",
      "# features:  34\n"
     ]
    }
   ],
   "source": [
    "# initialize and train model with alpha 0.01\n",
    "# We'll also increase the amount of max_iter otherwise it will raise a warning. \n",
    "lasso_01 = Lasso(alpha=0.01, max_iter=1000000)\n",
    "lasso_01.fit(X_train,y_train)\n",
    "\n",
    "# predict on test-set\n",
    "y_pred_lasso_01 = lasso_01.predict(X_test)\n",
    "\n",
    "# R-squared scores for train and test set\n",
    "train_score_lasso_01 = lasso_01.score(X_train, y_train)\n",
    "test_score_lasso_01 = lasso_01.score(X_test, y_test)\n",
    "print(\"Train score: {:.2f}\".format(train_score_lasso_01))\n",
    "print(\"Test score: {:.2f}\".format(test_score_lasso_01))\n",
    "\n",
    "# RMSE of test set\n",
    "print(\"MSE:\", round(mean_squared_error(y_test, y_pred_lasso_01), 3))\n",
    "\n",
    "# number of features used\n",
    "coeff_used = np.sum(lasso_01.coef_!=0)\n",
    "print(\"# features: \", coeff_used)"
   ]
  },
  {
   "cell_type": "code",
   "execution_count": null,
   "id": "5fd9a78c",
   "metadata": {},
   "outputs": [],
   "source": []
  },
  {
   "cell_type": "code",
   "execution_count": 26,
   "id": "9faf61c1",
   "metadata": {},
   "outputs": [
    {
     "name": "stdout",
     "output_type": "stream",
     "text": [
      "Train score: 0.65\n",
      "Test score: 0.68\n",
      "MSE: 632.35\n",
      "# features:  36\n"
     ]
    }
   ],
   "source": [
    "# initialize and train model with alpha 0.0001\n",
    "lasso_0001 = Lasso(alpha=0.0001, max_iter=1000000)\n",
    "lasso_0001.fit(X_train,y_train)\n",
    "\n",
    "# predict on test-set\n",
    "y_pred_lasso_0001 = lasso_0001.predict(X_test)\n",
    "\n",
    "# R-squared scores for train and test set\n",
    "train_score_lasso_0001 = lasso_0001.score(X_train, y_train)\n",
    "test_score_lasso_0001 = lasso_0001.score(X_test, y_test)\n",
    "print(\"Train score: {:.2f}\".format(train_score_lasso_0001))\n",
    "print(\"Test score: {:.2f}\".format(test_score_lasso_0001))\n",
    "\n",
    "# RMSE of test set\n",
    "print(\"MSE:\", round(mean_squared_error(y_test, y_pred_lasso_0001), 3))\n",
    "\n",
    "# number of features used\n",
    "coeff_used = np.sum(lasso_0001.coef_!=0)\n",
    "print(\"# features: \", coeff_used)"
   ]
  },
  {
   "cell_type": "code",
   "execution_count": null,
   "id": "aaf9e88b",
   "metadata": {},
   "outputs": [],
   "source": []
  },
  {
   "cell_type": "markdown",
   "id": "4a13f72f",
   "metadata": {},
   "source": [
    "##  ElasticNet Regression"
   ]
  },
  {
   "cell_type": "markdown",
   "id": "791d09bd",
   "metadata": {},
   "source": [
    "The ElasticNet regression combines the penalties of Lasso and Ridge. Often this combination works best, though at the price of having two parameters to adjust: one for the L1 regularization, and one for the L2 regularization."
   ]
  },
  {
   "cell_type": "code",
   "execution_count": 31,
   "id": "52fe0142",
   "metadata": {},
   "outputs": [
    {
     "name": "stdout",
     "output_type": "stream",
     "text": [
      "Train score: 0.65\n",
      "Test score: 0.68\n",
      "MSE: 636 3\n",
      "# features:  24\n"
     ]
    }
   ],
   "source": [
    "# initialize and train model with (default value) alpha = 1.0\n",
    "elastic = ElasticNet(alpha=1, l1_ratio=0.6, max_iter=10e5)\n",
    "elastic.fit(X_train,y_train)\n",
    "\n",
    "# predict on test-set\n",
    "y_pred_elastic = elastic.predict(X_test)\n",
    "\n",
    "# R-squared scores for train and test set\n",
    "train_score_elastic = elastic.score(X_train, y_train)\n",
    "test_score_elastic = elastic.score(X_test, y_test)\n",
    "print(\"Train score: {:.2f}\".format(train_score_elastic))\n",
    "print(\"Test score: {:.2f}\".format(test_score_elastic))\n",
    "\n",
    "# RMSE of test set\n",
    "print(\"MSE:\", round(mean_squared_error(y_test, y_pred_elastic)), 3)\n",
    "\n",
    "# number of features used\n",
    "coeff_used = np.sum(elastic.coef_!=0)\n",
    "print(\"# features: \", coeff_used)\n",
    "\n",
    "print('This cell was last run on: ')\n",
    "print(datetime.now())"
   ]
  },
  {
   "cell_type": "markdown",
   "id": "64b2c88c",
   "metadata": {},
   "source": [
    "----"
   ]
  },
  {
   "cell_type": "markdown",
   "id": "9296f289",
   "metadata": {},
   "source": [
    "## Conclusion"
   ]
  },
  {
   "cell_type": "markdown",
   "id": "1d9b9231",
   "metadata": {},
   "source": [
    "Now you saw three different ways to prevent a linear regression model from overfitting and for prediction. In practice, ridge regression is usually the first choice. But if there are  a large amount of features and want to improve the interpretability of a model it makes sense to go for lasso regression since it will eliminate some of your features.\n",
    "With  the ElasticNet both can be combined.\n",
    "All in all and with a look on the outcome for the three typs - the results are not satisfying!\n",
    "For this reason go on with: [CyPer_TensorFlow](CyPer_TensorFlow.ipynb)."
   ]
  },
  {
   "cell_type": "code",
   "execution_count": null,
   "id": "dcda34a8",
   "metadata": {},
   "outputs": [],
   "source": []
  },
  {
   "cell_type": "code",
   "execution_count": null,
   "id": "1746b5cb",
   "metadata": {},
   "outputs": [],
   "source": []
  }
 ],
 "metadata": {
  "kernelspec": {
   "display_name": "Python 3",
   "language": "python",
   "name": "python3"
  },
  "language_info": {
   "codemirror_mode": {
    "name": "ipython",
    "version": 3
   },
   "file_extension": ".py",
   "mimetype": "text/x-python",
   "name": "python",
   "nbconvert_exporter": "python",
   "pygments_lexer": "ipython3",
   "version": "3.8.5"
  }
 },
 "nbformat": 4,
 "nbformat_minor": 5
}
