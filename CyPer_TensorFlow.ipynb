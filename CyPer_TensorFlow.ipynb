{
 "cells": [
  {
   "cell_type": "markdown",
   "id": "a34a5881",
   "metadata": {},
   "source": [
    "# TensorFlow\n",
    "\n",
    "Predict power_W with a Deep Neural Network (DNN) by using TensorFlow and Keras.\n",
    "\n",
    "-------"
   ]
  },
  {
   "cell_type": "markdown",
   "id": "19f4a2fc",
   "metadata": {},
   "source": [
    "## Environment Set-Up\n",
    "\n",
    "### Load relevant Python Packages"
   ]
  },
  {
   "cell_type": "code",
   "execution_count": 1,
   "id": "a152eda7",
   "metadata": {},
   "outputs": [],
   "source": [
    "# Importing the most important modules\n",
    "import pandas as pd\n",
    "import numpy as np\n",
    "import matplotlib.pyplot as plt\n",
    "import seaborn as sns\n",
    "import warnings\n",
    "import pickle\n",
    "import time\n",
    "from matplotlib import pyplot\n",
    "import matplotlib.dates as mdates\n",
    "\n",
    "# For Data Mining\n",
    "import os, glob\n",
    "from pandas import read_csv\n",
    "\n",
    "# Importing metrics to evaluate the implemented models\n",
    "from sklearn.metrics import mean_squared_error, r2_score, mean_absolute_error\n",
    "from sklearn.preprocessing import StandardScaler\n",
    "from sklearn.linear_model import LinearRegression\n",
    "from sklearn.model_selection import train_test_split\n",
    "from sklearn import metrics\n",
    "\n",
    "from keras.models import Sequential\n",
    "from keras.layers import Dense\n",
    "from tensorflow.keras import layers\n",
    "from tensorflow.keras import regularizers\n",
    "from tensorflow.keras.layers.experimental import preprocessing\n",
    "import tensorflow as tf "
   ]
  },
  {
   "cell_type": "markdown",
   "id": "7307d86c",
   "metadata": {},
   "source": [
    "### Setup for TensorBoard\n",
    "\n",
    "We will use the TensorBoard to visualize some results. You can find more information and the board itself at the end of this notebook, but we will define the path were the information should be stored directly here at the beginning. "
   ]
  },
  {
   "cell_type": "code",
   "execution_count": 2,
   "id": "a397607e",
   "metadata": {},
   "outputs": [],
   "source": [
    "# With this command you can clear any logs from previous runs\n",
    "# If you want to compare different runs you can skip this cell \n",
    "!rm -rf my_logs/"
   ]
  },
  {
   "cell_type": "code",
   "execution_count": 3,
   "id": "505cca20",
   "metadata": {},
   "outputs": [],
   "source": [
    "# Define path for new directory \n",
    "root_logdir = os.path.join(os.curdir, \"my_logs\")"
   ]
  },
  {
   "cell_type": "code",
   "execution_count": 4,
   "id": "3477610b",
   "metadata": {},
   "outputs": [],
   "source": [
    "# Define function for creating a new folder for each run\n",
    "def get_run_logdir():\n",
    "    run_id = time.strftime('run_%d_%m_%Y-%H_%M_%S')\n",
    "    return os.path.join(root_logdir, run_id)"
   ]
  },
  {
   "cell_type": "code",
   "execution_count": 5,
   "id": "4ce32dce",
   "metadata": {},
   "outputs": [],
   "source": [
    "run_logdir = get_run_logdir()"
   ]
  },
  {
   "cell_type": "code",
   "execution_count": 6,
   "id": "1971fe91",
   "metadata": {},
   "outputs": [],
   "source": [
    "# Create function for using callbacks; \"name\" should be the name of the model you use\n",
    "def get_callbacks(name):\n",
    "    return tf.keras.callbacks.TensorBoard(run_logdir+name, histogram_freq=1)"
   ]
  },
  {
   "cell_type": "markdown",
   "id": "86852803",
   "metadata": {},
   "source": [
    "### Data Import"
   ]
  },
  {
   "cell_type": "code",
   "execution_count": 7,
   "id": "a2211c33",
   "metadata": {},
   "outputs": [
    {
     "data": {
      "text/html": [
       "<div>\n",
       "<style scoped>\n",
       "    .dataframe tbody tr th:only-of-type {\n",
       "        vertical-align: middle;\n",
       "    }\n",
       "\n",
       "    .dataframe tbody tr th {\n",
       "        vertical-align: top;\n",
       "    }\n",
       "\n",
       "    .dataframe thead th {\n",
       "        text-align: right;\n",
       "    }\n",
       "</style>\n",
       "<table border=\"1\" class=\"dataframe\">\n",
       "  <thead>\n",
       "    <tr style=\"text-align: right;\">\n",
       "      <th></th>\n",
       "      <th>dist_km</th>\n",
       "      <th>elv_m</th>\n",
       "      <th>elapsed_time</th>\n",
       "      <th>moving_time</th>\n",
       "      <th>start_time</th>\n",
       "      <th>speed_km/h</th>\n",
       "      <th>pace_min/km</th>\n",
       "      <th>pace_min/100m</th>\n",
       "      <th>power_W</th>\n",
       "      <th>cad</th>\n",
       "      <th>...</th>\n",
       "      <th>dayofyear</th>\n",
       "      <th>hour</th>\n",
       "      <th>minute</th>\n",
       "      <th>second</th>\n",
       "      <th>day_of_week_Monday</th>\n",
       "      <th>day_of_week_Saturday</th>\n",
       "      <th>day_of_week_Sunday</th>\n",
       "      <th>day_of_week_Thursday</th>\n",
       "      <th>day_of_week_Tuesday</th>\n",
       "      <th>day_of_week_Wednesday</th>\n",
       "    </tr>\n",
       "  </thead>\n",
       "  <tbody>\n",
       "    <tr>\n",
       "      <th>0</th>\n",
       "      <td>90.80</td>\n",
       "      <td>797.0</td>\n",
       "      <td>12497</td>\n",
       "      <td>12014</td>\n",
       "      <td>51327</td>\n",
       "      <td>27.2</td>\n",
       "      <td>132.3</td>\n",
       "      <td>13.23</td>\n",
       "      <td>186.0</td>\n",
       "      <td>77.0</td>\n",
       "      <td>...</td>\n",
       "      <td>87</td>\n",
       "      <td>14</td>\n",
       "      <td>15</td>\n",
       "      <td>27</td>\n",
       "      <td>0</td>\n",
       "      <td>0</td>\n",
       "      <td>1</td>\n",
       "      <td>0</td>\n",
       "      <td>0</td>\n",
       "      <td>0</td>\n",
       "    </tr>\n",
       "    <tr>\n",
       "      <th>1</th>\n",
       "      <td>95.54</td>\n",
       "      <td>769.0</td>\n",
       "      <td>18614</td>\n",
       "      <td>16282</td>\n",
       "      <td>45154</td>\n",
       "      <td>21.1</td>\n",
       "      <td>170.4</td>\n",
       "      <td>17.04</td>\n",
       "      <td>94.0</td>\n",
       "      <td>76.0</td>\n",
       "      <td>...</td>\n",
       "      <td>86</td>\n",
       "      <td>12</td>\n",
       "      <td>32</td>\n",
       "      <td>34</td>\n",
       "      <td>0</td>\n",
       "      <td>1</td>\n",
       "      <td>0</td>\n",
       "      <td>0</td>\n",
       "      <td>0</td>\n",
       "      <td>0</td>\n",
       "    </tr>\n",
       "  </tbody>\n",
       "</table>\n",
       "<p>2 rows × 39 columns</p>\n",
       "</div>"
      ],
      "text/plain": [
       "   dist_km  elv_m  elapsed_time  moving_time  start_time  speed_km/h  \\\n",
       "0    90.80  797.0         12497        12014       51327        27.2   \n",
       "1    95.54  769.0         18614        16282       45154        21.1   \n",
       "\n",
       "   pace_min/km  pace_min/100m  power_W   cad  ...  dayofyear  hour  minute  \\\n",
       "0        132.3          13.23    186.0  77.0  ...         87    14      15   \n",
       "1        170.4          17.04     94.0  76.0  ...         86    12      32   \n",
       "\n",
       "   second  day_of_week_Monday  day_of_week_Saturday  day_of_week_Sunday  \\\n",
       "0      27                   0                     0                   1   \n",
       "1      34                   0                     1                   0   \n",
       "\n",
       "   day_of_week_Thursday  day_of_week_Tuesday  day_of_week_Wednesday  \n",
       "0                     0                    0                      0  \n",
       "1                     0                    0                      0  \n",
       "\n",
       "[2 rows x 39 columns]"
      ]
     },
     "execution_count": 7,
     "metadata": {},
     "output_type": "execute_result"
    }
   ],
   "source": [
    "#data has been saved using a .pkl file \n",
    "path = './data/df_model.pkl'\n",
    "df_model = pd.read_pickle(path)\n",
    "df_model.head(2)"
   ]
  },
  {
   "cell_type": "markdown",
   "id": "b12e32a4",
   "metadata": {},
   "source": [
    "### Setting Up Training & Test Dataframes\n",
    "\n",
    "The dataframe is split into a training set (80%) and a test set (20%)."
   ]
  },
  {
   "cell_type": "code",
   "execution_count": 8,
   "id": "6b657ec8",
   "metadata": {},
   "outputs": [],
   "source": [
    "# define features and target\n",
    "X = df_model.drop('power_W', axis=1)\n",
    "y = df_model.power_W"
   ]
  },
  {
   "cell_type": "code",
   "execution_count": 9,
   "id": "b89bd061",
   "metadata": {},
   "outputs": [],
   "source": [
    "# Split into train and test set\n",
    "X_train, X_test, y_train, y_test = train_test_split(X, y, test_size = 0.2, random_state=105)"
   ]
  },
  {
   "cell_type": "code",
   "execution_count": 10,
   "id": "3435ac23",
   "metadata": {},
   "outputs": [],
   "source": [
    "# Convert to np array\n",
    "X_train = X_train.values\n",
    "X_test = X_test.values\n",
    "y_train = y_train.values\n",
    "y_test = y_test.values"
   ]
  },
  {
   "cell_type": "code",
   "execution_count": 11,
   "id": "9b4729f9",
   "metadata": {},
   "outputs": [
    {
     "data": {
      "text/plain": [
       "(88309, 38)"
      ]
     },
     "execution_count": 11,
     "metadata": {},
     "output_type": "execute_result"
    }
   ],
   "source": [
    "X_train.shape"
   ]
  },
  {
   "cell_type": "code",
   "execution_count": 12,
   "id": "63a60c94",
   "metadata": {},
   "outputs": [
    {
     "data": {
      "text/plain": [
       "(88309,)"
      ]
     },
     "execution_count": 12,
     "metadata": {},
     "output_type": "execute_result"
    }
   ],
   "source": [
    "y_train.shape"
   ]
  },
  {
   "cell_type": "markdown",
   "id": "539afb48",
   "metadata": {},
   "source": [
    "## Multiple Regression Model with scikit-learn\n",
    "\n",
    "Before we start using TensorFlow and Keras, let's train a simple `LinearRegression` model from sklearn for comparison. "
   ]
  },
  {
   "cell_type": "code",
   "execution_count": 13,
   "id": "d2f293d5",
   "metadata": {},
   "outputs": [],
   "source": [
    "# Scaling the data \n",
    "scaler = StandardScaler()\n",
    "X_train_scaled = scaler.fit_transform(X_train)\n",
    "X_test_scaled = scaler.transform(X_test)"
   ]
  },
  {
   "cell_type": "code",
   "execution_count": 14,
   "id": "c926fe12",
   "metadata": {},
   "outputs": [
    {
     "data": {
      "text/plain": [
       "LinearRegression()"
      ]
     },
     "execution_count": 14,
     "metadata": {},
     "output_type": "execute_result"
    }
   ],
   "source": [
    "# Initalizing and training the model \n",
    "lin_reg = LinearRegression()\n",
    "lin_reg.fit(X_train_scaled, y_train)"
   ]
  },
  {
   "cell_type": "code",
   "execution_count": 15,
   "id": "0e9550f5",
   "metadata": {},
   "outputs": [],
   "source": [
    "# Making predictions \n",
    "y_pred = lin_reg.predict(X_test_scaled)"
   ]
  },
  {
   "cell_type": "code",
   "execution_count": 16,
   "id": "406ec90b",
   "metadata": {},
   "outputs": [
    {
     "name": "stdout",
     "output_type": "stream",
     "text": [
      "Mean of power_W:\n",
      " 163\n",
      "Mean Absolute Error:\n",
      " 14\n",
      "Mean Squared Error:\n",
      " 582\n",
      "Root Mean Squared Error:\n",
      " 24\n",
      "R^2:\n",
      " 0.72\n"
     ]
    }
   ],
   "source": [
    "# Calculate r^2\n",
    "r2 = r2_score(y_test, y_pred, multioutput='uniform_average')\n",
    "\n",
    "# Return evaluation\n",
    "print('Mean of power_W:\\n', round(df_model['power_W'].mean()))\n",
    "print('Mean Absolute Error:\\n', round(metrics.mean_absolute_error(y_test, y_pred)))\n",
    "print('Mean Squared Error:\\n', round(metrics.mean_squared_error(y_test, y_pred)))\n",
    "print('Root Mean Squared Error:\\n', round(np.sqrt(metrics.mean_squared_error(y_test, y_pred))))\n",
    "print('R^2:\\n', round(r2,ndigits=2))"
   ]
  },
  {
   "cell_type": "code",
   "execution_count": 17,
   "id": "40e27a46",
   "metadata": {},
   "outputs": [
    {
     "name": "stdout",
     "output_type": "stream",
     "text": [
      "MAE: 14.33\n",
      "MSE 582.17\n"
     ]
    }
   ],
   "source": [
    "# Evaluting model\n",
    "mae =  mean_absolute_error(y_test, y_pred).round(2)\n",
    "mse = mean_squared_error(y_test, y_pred).round(2)\n",
    "\n",
    "print('MAE:', mae)\n",
    "print('MSE', mse)"
   ]
  },
  {
   "cell_type": "markdown",
   "id": "68d622c0",
   "metadata": {},
   "source": [
    "The result get stored in a dictionary in order to compare the results of different models in the end."
   ]
  },
  {
   "cell_type": "code",
   "execution_count": 18,
   "id": "9fe66bd1",
   "metadata": {},
   "outputs": [],
   "source": [
    "test_results = {}\n",
    "test_results['sklearn_model'] =  [mae, mse]"
   ]
  },
  {
   "cell_type": "markdown",
   "id": "ae606784",
   "metadata": {},
   "source": [
    "### Normalization\n",
    "\n",
    "In the table of statistics (in [CyPer_EDA](CyPer_EDA.ipynb)) it's easy to see how different the ranges of each feature are.\n",
    "It is good practice to normalize features that use different scales and ranges.\n",
    "\n",
    "One reason this is important is because the features are multiplied by the model weights. So the scale of the outputs and the scale of the gradients are affected by the scale of the inputs.\n",
    "\n",
    "Although a model might converge without feature normalization, normalization makes training much more stable."
   ]
  },
  {
   "cell_type": "markdown",
   "id": "f4238298",
   "metadata": {},
   "source": [
    "### The Normalization layer\n",
    "The `preprocessing.Normalization` layer is a clean and simple way to build that preprocessing into the model.\n",
    "\n",
    "The first step is to create the layer:"
   ]
  },
  {
   "cell_type": "code",
   "execution_count": 19,
   "id": "1fee677c",
   "metadata": {},
   "outputs": [],
   "source": [
    "# Creat normalization layer\n",
    "normalizer = preprocessing.Normalization()"
   ]
  },
  {
   "cell_type": "code",
   "execution_count": 20,
   "id": "5a0085f3",
   "metadata": {},
   "outputs": [],
   "source": [
    "# Then `.adapt()` it to the data:\n",
    "normalizer.adapt(np.array(X_train))"
   ]
  },
  {
   "cell_type": "markdown",
   "id": "5e954fcc",
   "metadata": {},
   "source": [
    "This calculates the mean and variance, and stores them in the layer. \n",
    "When the layer is called it returns the input data, with each feature independently normalized."
   ]
  },
  {
   "cell_type": "markdown",
   "id": "eb45db42",
   "metadata": {},
   "source": [
    "## DNN Regression by using TensorFlow/Keras"
   ]
  },
  {
   "cell_type": "markdown",
   "id": "eb7dc5be",
   "metadata": {},
   "source": [
    "This section implements a multiple-input DNN model. The model include five \"hidden\" non-linear layers. The name \"hidden\" here just means not directly connected to the inputs or outputs."
   ]
  },
  {
   "cell_type": "markdown",
   "id": "e043c193",
   "metadata": {},
   "source": [
    "The models contain seven layers:\n",
    "\n",
    "    1. The normalization layer.\n",
    "    2. Five hidden, nonlinear, Dense layers using the relu nonlinearity.\n",
    "    3. A linear single-output layer.\n",
    "Both will use the same training procedure so we'll include the compile method in the newly defined build_and_compile_model function below."
   ]
  },
  {
   "cell_type": "code",
   "execution_count": 21,
   "id": "539c13cd",
   "metadata": {},
   "outputs": [],
   "source": [
    "# Define dictionary to store results\n",
    "training_history = {}\n",
    "\n",
    "# Define number of epochs and learning rate decay\n",
    "N_TRAIN = len(X_train)\n",
    "EPOCHS = 1000\n",
    "BATCH_SIZE = 500\n",
    "STEPS_PER_EPOCH = N_TRAIN // BATCH_SIZE\n",
    "lr_schedule = tf.keras.optimizers.schedules.InverseTimeDecay(\n",
    "    0.01,\n",
    "    decay_steps=STEPS_PER_EPOCH*1000,\n",
    "    decay_rate=1,\n",
    "    staircase=False)\n",
    "\n",
    "\n",
    "# Define optimizer used for modelling\n",
    "optimizer = tf.keras.optimizers.Adamax(learning_rate=lr_schedule, name='Adamax')"
   ]
  },
  {
   "cell_type": "code",
   "execution_count": 22,
   "id": "648920a4",
   "metadata": {},
   "outputs": [],
   "source": [
    "# Function for model_a architecture \n",
    "def model_b(norm):\n",
    "    model_b = tf.keras.Sequential([\n",
    "      norm,\n",
    "      tf.keras.layers.Dense(512,kernel_initializer = 'uniform', activation='relu', input_dim = 38),\n",
    "      tf.keras.layers.Dense(512,kernel_initializer = 'uniform', activation='relu'),\n",
    "      tf.keras.layers.Dense(512,kernel_initializer = 'uniform', activation='relu'),\n",
    "      tf.keras.layers.Dense(512,kernel_initializer = 'uniform', activation='relu'),\n",
    "      tf.keras.layers.Dense(512,kernel_initializer = 'uniform', activation='relu'),\n",
    "      tf.keras.layers.Dense(512,kernel_initializer = 'uniform', activation='relu'),\n",
    "      tf.keras.layers.Dense(1,kernel_initializer = 'uniform')\n",
    "    ])\n",
    "\n",
    "    model_b.compile(optimizer=optimizer,\n",
    "                  loss='mae',\n",
    "                  metrics=['mse'])\n",
    "    return model_b"
   ]
  },
  {
   "cell_type": "code",
   "execution_count": 23,
   "id": "c8b4fbf8",
   "metadata": {},
   "outputs": [],
   "source": [
    "model_b = model_b(normalizer)"
   ]
  },
  {
   "cell_type": "code",
   "execution_count": 24,
   "id": "9d263efd",
   "metadata": {},
   "outputs": [
    {
     "name": "stdout",
     "output_type": "stream",
     "text": [
      "Model: \"sequential\"\n",
      "_________________________________________________________________\n",
      "Layer (type)                 Output Shape              Param #   \n",
      "=================================================================\n",
      "normalization (Normalization (None, 38)                77        \n",
      "_________________________________________________________________\n",
      "dense (Dense)                (None, 512)               19968     \n",
      "_________________________________________________________________\n",
      "dense_1 (Dense)              (None, 512)               262656    \n",
      "_________________________________________________________________\n",
      "dense_2 (Dense)              (None, 512)               262656    \n",
      "_________________________________________________________________\n",
      "dense_3 (Dense)              (None, 512)               262656    \n",
      "_________________________________________________________________\n",
      "dense_4 (Dense)              (None, 512)               262656    \n",
      "_________________________________________________________________\n",
      "dense_5 (Dense)              (None, 512)               262656    \n",
      "_________________________________________________________________\n",
      "dense_6 (Dense)              (None, 1)                 513       \n",
      "=================================================================\n",
      "Total params: 1,333,838\n",
      "Trainable params: 1,333,761\n",
      "Non-trainable params: 77\n",
      "_________________________________________________________________\n"
     ]
    }
   ],
   "source": [
    "model_b.summary()"
   ]
  },
  {
   "cell_type": "code",
   "execution_count": 25,
   "id": "d9d75409",
   "metadata": {},
   "outputs": [
    {
     "name": "stdout",
     "output_type": "stream",
     "text": [
      "CPU times: user 5h 10min 53s, sys: 41min 58s, total: 5h 52min 51s\n",
      "Wall time: 1h 5min 12s\n"
     ]
    }
   ],
   "source": [
    "%%time\n",
    "training_history['model_b'] = model_b.fit(X_train,\n",
    "                     y_train,\n",
    "                     validation_split=0.2,\n",
    "                     verbose=0,\n",
    "                     steps_per_epoch=len(X_train)//BATCH_SIZE,\n",
    "                     epochs=EPOCHS,\n",
    "                     callbacks=get_callbacks('model_b'))"
   ]
  },
  {
   "cell_type": "code",
   "execution_count": 26,
   "id": "c81839ca",
   "metadata": {},
   "outputs": [
    {
     "name": "stdout",
     "output_type": "stream",
     "text": [
      "690/690 - 1s - loss: 0.7356 - mse: 44.6581\n",
      "Model MSE: 44.65814971923828\n",
      "----------------------------------------\n",
      "MSE: 44.65815346643869\n"
     ]
    }
   ],
   "source": [
    "#Evaluate the model_a on test set using .evaluate\n",
    "loss, mse = model_b.evaluate(X_test, y_test, verbose=2)\n",
    "print(f'Model MSE: {mse}')\n",
    "print('--------'*5)\n",
    "\n",
    "# Predict values for test set\n",
    "y_pred = model_b.predict(X_test)\n",
    "print('MSE:', mean_squared_error(y_test, y_pred))"
   ]
  },
  {
   "cell_type": "markdown",
   "id": "ede1cdd6",
   "metadata": {},
   "source": [
    "### Make Predictions for power_W"
   ]
  },
  {
   "cell_type": "markdown",
   "id": "ce341e80",
   "metadata": {},
   "source": [
    "Finally, predict have a look at the errors made by the model when making predictions on the test set:"
   ]
  },
  {
   "cell_type": "code",
   "execution_count": 62,
   "id": "b122dd1c",
   "metadata": {},
   "outputs": [
    {
     "data": {
      "image/png": "[encoded data removed]",
      "text/plain": [
       "<Figure size 576x576 with 1 Axes>"
      ]
     },
     "metadata": {
      "needs_background": "light"
     },
     "output_type": "display_data"
    }
   ],
   "source": [
    "y_pred = model_b.predict(X_test).flatten()\n",
    "\n",
    "\n",
    "plt.figure(figsize=(8,8))\n",
    "plt.title(\"Prediction vs. True\")\n",
    "plt.scatter(y_test, y_pred)\n",
    "plt.xlabel('True Values [power_W]')\n",
    "plt.ylabel('Predictions [power_W]')\n",
    "lims = [50, 250]\n",
    "plt.xlim(lims)\n",
    "plt.ylim(lims)\n",
    "_ = plt.plot(lims, lims)"
   ]
  },
  {
   "cell_type": "markdown",
   "id": "77f89905",
   "metadata": {},
   "source": [
    "### Error distribution"
   ]
  },
  {
   "cell_type": "code",
   "execution_count": 63,
   "id": "11f5d53b",
   "metadata": {},
   "outputs": [
    {
     "data": {
      "image/png": "[encoded data removed]",
      "text/plain": [
       "<Figure size 864x432 with 1 Axes>"
      ]
     },
     "metadata": {
      "needs_background": "light"
     },
     "output_type": "display_data"
    }
   ],
   "source": [
    "plt.figure(figsize=(12,6))\n",
    "error = y_pred - y_test\n",
    "plt.hist(error, bins=5000)\n",
    "plt.title(\"Error distribution\")\n",
    "plt.xlabel('Prediction Error [power_W]')\n",
    "lims = [-3, 3]\n",
    "plt.xlim(lims)\n",
    "plt.xticks([-2.5, -2,-1.5, -1, -0.5, 0, 0.5, 1, 1.5, 2, 2.5])\n",
    "_ = plt.ylabel('Count')"
   ]
  },
  {
   "cell_type": "code",
   "execution_count": 29,
   "id": "43b15df6",
   "metadata": {},
   "outputs": [
    {
     "name": "stdout",
     "output_type": "stream",
     "text": [
      "INFO:tensorflow:Assets written to: model_b/assets\n"
     ]
    }
   ],
   "source": [
    "model_b.save('model_b')\n",
    "\n",
    "print('This cell was last run on: ')\n",
    "print(datetime.now())"
   ]
  },
  {
   "cell_type": "markdown",
   "id": "d04b9c31",
   "metadata": {},
   "source": [
    "---"
   ]
  },
  {
   "cell_type": "markdown",
   "id": "774289ac",
   "metadata": {},
   "source": [
    "## TensorBoard\n",
    "\n",
    "In machine learning, to improve something you often need to be able to measure it. TensorBoard is a tool for providing the measurements and visualizations needed during the machine learning workflow. It enables tracking experiment metrics like loss and accuracy, visualizing the model graph, projecting embeddings to a lower dimensional space, and much more."
   ]
  },
  {
   "cell_type": "code",
   "execution_count": 30,
   "id": "04aa453e",
   "metadata": {},
   "outputs": [],
   "source": [
    "# Load the TensorBoard notebook extension\n",
    "%load_ext tensorboard"
   ]
  },
  {
   "cell_type": "code",
   "execution_count": 31,
   "id": "c13901c8",
   "metadata": {},
   "outputs": [
    {
     "data": {
      "text/html": [
       "\n",
       "      <iframe id=\"tensorboard-frame-5c9e011e7b18b7b6\" width=\"100%\" height=\"800\" frameborder=\"0\">\n",
       "      </iframe>\n",
       "      <script>\n",
       "        (function() {\n",
       "          const frame = document.getElementById(\"tensorboard-frame-5c9e011e7b18b7b6\");\n",
       "          const url = new URL(\"/\", window.location);\n",
       "          const port = 6007;\n",
       "          if (port) {\n",
       "            url.port = port;\n",
       "          }\n",
       "          frame.src = url;\n",
       "        })();\n",
       "      </script>\n",
       "    "
      ],
      "text/plain": [
       "<IPython.core.display.HTML object>"
      ]
     },
     "metadata": {},
     "output_type": "display_data"
    }
   ],
   "source": [
    "%tensorboard --logdir=./my_logs"
   ]
  },
  {
   "cell_type": "code",
   "execution_count": null,
   "id": "9650b12e",
   "metadata": {},
   "outputs": [],
   "source": []
  }
 ],
 "metadata": {
  "kernelspec": {
   "display_name": "Python 3",
   "language": "python",
   "name": "python3"
  },
  "language_info": {
   "codemirror_mode": {
    "name": "ipython",
    "version": 3
   },
   "file_extension": ".py",
   "mimetype": "text/x-python",
   "name": "python",
   "nbconvert_exporter": "python",
   "pygments_lexer": "ipython3",
   "version": "3.8.5"
  }
 },
 "nbformat": 4,
 "nbformat_minor": 5
}
